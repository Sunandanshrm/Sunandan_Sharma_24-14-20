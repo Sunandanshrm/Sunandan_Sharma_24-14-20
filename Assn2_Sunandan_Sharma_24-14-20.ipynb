{
 "cells": [
  {
   "cell_type": "markdown",
   "id": "0983178c",
   "metadata": {},
   "source": [
    "## Assignment 2 (Data Science Tools and Techniqes, AM609)\n",
    "## Reg. No: 24-14-20\n",
    "## Name: Sunandan Sharma\n",
    "## Course: M.Tech Modelling & Simulation"
   ]
  },
  {
   "cell_type": "markdown",
   "id": "752b88cc",
   "metadata": {},
   "source": [
    "### Q1: a) Create a variable named var1 that stores an array of numbers from 0 to 30, inclusive. Print var1 and its shape. "
   ]
  },
  {
   "cell_type": "code",
   "execution_count": 2,
   "id": "96c10bae",
   "metadata": {},
   "outputs": [
    {
     "name": "stdout",
     "output_type": "stream",
     "text": [
      "[ 0  1  2  3  4  5  6  7  8  9 10 11 12 13 14 15 16 17 18 19 20 21 22 23\n",
      " 24 25 26 27 28 29 30]\n",
      "The shape is: (31,)\n"
     ]
    }
   ],
   "source": [
    "import numpy as np\n",
    "var1 = np.arange(31)\n",
    "print(var1)\n",
    "print(\"The shape is:\",var1.shape)"
   ]
  },
  {
   "cell_type": "markdown",
   "id": "b18c9d19",
   "metadata": {},
   "source": [
    "### b) Change var1 to a validly-shaped two dimensional matrix and store it in a new variable called var2. Print var2 and its shape."
   ]
  },
  {
   "cell_type": "code",
   "execution_count": 3,
   "id": "87fe3746",
   "metadata": {},
   "outputs": [
    {
     "name": "stdout",
     "output_type": "stream",
     "text": [
      "[[ 1  2  3  4  5]\n",
      " [ 6  7  8  9 10]\n",
      " [11 12 13 14 15]\n",
      " [16 17 18 19 20]\n",
      " [21 22 23 24 25]\n",
      " [26 27 28 29 30]]\n",
      "The shape is: (6, 5)\n"
     ]
    }
   ],
   "source": [
    "var2 = np.delete(var1,0).reshape(6,-1)\n",
    "print(var2)\n",
    "print(\"The shape is:\",var2.shape)"
   ]
  },
  {
   "cell_type": "markdown",
   "id": "6353a1ca",
   "metadata": {},
   "source": [
    "### c) Create a third variable, var3 that reshapes var2 into a valid three dimensional shape. Print var3 and its shape."
   ]
  },
  {
   "cell_type": "code",
   "execution_count": 4,
   "id": "b959df52",
   "metadata": {
    "scrolled": true
   },
   "outputs": [
    {
     "name": "stdout",
     "output_type": "stream",
     "text": [
      "[[[ 1  2  3  4  5]\n",
      "  [ 6  7  8  9 10]\n",
      "  [11 12 13 14 15]]\n",
      "\n",
      " [[16 17 18 19 20]\n",
      "  [21 22 23 24 25]\n",
      "  [26 27 28 29 30]]]\n",
      "The shape is: (2, 3, 5)\n"
     ]
    }
   ],
   "source": [
    "var3 = np.delete(var1,0).reshape(2,3,-1)\n",
    "print(var3)\n",
    "print(\"The shape is:\",var3.shape)"
   ]
  },
  {
   "cell_type": "markdown",
   "id": "c14c1e4d",
   "metadata": {},
   "source": [
    "### d) Use two dimensional array indexing to set the first value in the second row of var2 to -1. Now look at var1 and var3. Did they change? Explain what's going on. (Hint: Does reshape return a view or a copy?)"
   ]
  },
  {
   "cell_type": "code",
   "execution_count": 5,
   "id": "93da771b",
   "metadata": {},
   "outputs": [
    {
     "name": "stdout",
     "output_type": "stream",
     "text": [
      "Updated var2 is:\n",
      "[[ 1  2  3  4  5]\n",
      " [-1  7  8  9 10]\n",
      " [11 12 13 14 15]\n",
      " [16 17 18 19 20]\n",
      " [21 22 23 24 25]\n",
      " [26 27 28 29 30]]\n",
      "Array var1 after modifying var2:\n",
      "[ 0  1  2  3  4  5  6  7  8  9 10 11 12 13 14 15 16 17 18 19 20 21 22 23\n",
      " 24 25 26 27 28 29 30]\n",
      "Array var3 after modifying var2:\n",
      "[[[ 1  2  3  4  5]\n",
      "  [ 6  7  8  9 10]\n",
      "  [11 12 13 14 15]]\n",
      "\n",
      " [[16 17 18 19 20]\n",
      "  [21 22 23 24 25]\n",
      "  [26 27 28 29 30]]]\n"
     ]
    }
   ],
   "source": [
    "var2[1,0]=-1\n",
    "print(\"Updated var2 is:\")\n",
    "print(var2)\n",
    "print(\"Array var1 after modifying var2:\")\n",
    "print(var1)\n",
    "print(\"Array var3 after modifying var2:\")\n",
    "print(var3)"
   ]
  },
  {
   "cell_type": "markdown",
   "id": "173bf9a8",
   "metadata": {},
   "source": [
    "#### The var1 and var3 has not changed after updating var2. The numpy function rehape here is returning a view. "
   ]
  },
  {
   "cell_type": "markdown",
   "id": "2bacc812",
   "metadata": {},
   "source": [
    "## e) Another thing that comes up a lot with array shapes is thinking about how to aggregate over specific dimensions. Figure out how the NumPy sum function works (and the axis argument in particular) and do the following:\n",
    "\n",
    "#### (i) Sum var3 over its second dimension and print the result.\n",
    "#### (ii) Sum var3 over its third dimension and print the result.\n",
    "#### (iii) Sum var3 over both its first and third dimensions and print the result."
   ]
  },
  {
   "cell_type": "code",
   "execution_count": 7,
   "id": "cdbb1194",
   "metadata": {
    "scrolled": true
   },
   "outputs": [
    {
     "name": "stdout",
     "output_type": "stream",
     "text": [
      "Sum of var3 over its second dimension:\n",
      " [[18 21 24 27 30]\n",
      " [63 66 69 72 75]]\n",
      "Sum of var3 over its third dimension:\n",
      " [[ 15  40  65]\n",
      " [ 90 115 140]]\n",
      "Sum of var3 over its first and third dimension:\n",
      " [105 155 205]\n"
     ]
    }
   ],
   "source": [
    "sum_var3_dim2 = var3.sum(axis=1)\n",
    "print(\"Sum of var3 over its second dimension:\\n\", sum_var3_dim2)\n",
    "sum_var3_dim3 = var3.sum(axis=2)\n",
    "print(\"Sum of var3 over its third dimension:\\n\", sum_var3_dim3)\n",
    "sum_var3_dim12=var3.sum(axis=(0,2))\n",
    "print(\"Sum of var3 over its first and third dimension:\\n\", sum_var3_dim12)"
   ]
  },
  {
   "cell_type": "markdown",
   "id": "eb2b73d2",
   "metadata": {},
   "source": [
    "### f) Write code to do the following:\n",
    "#### (i) Slice out the second row of var2 and print it.\n",
    "#### (ii) Slice out the last column of var2 using the -1 notation and print it.\n",
    "#### (iii) Slice out the top right 2 × 2 submatrix of var2 and print it."
   ]
  },
  {
   "cell_type": "code",
   "execution_count": 10,
   "id": "21746d6f",
   "metadata": {},
   "outputs": [
    {
     "name": "stdout",
     "output_type": "stream",
     "text": [
      "The second row of var2 is: \n",
      "[-1  7  8  9 10]\n",
      "The last column of var2 is: \n",
      "[[ 5]\n",
      " [10]\n",
      " [15]\n",
      " [20]\n",
      " [25]\n",
      " [30]]\n",
      "The top right 2x2 submatrix of var2 is: \n",
      "[[ 4  5]\n",
      " [ 9 10]]\n"
     ]
    }
   ],
   "source": [
    "row2_of_var2=var2[1,:]\n",
    "print(\"The second row of var2 is: \")\n",
    "print(row2_of_var2)\n",
    "col_last_var2=var2[:,-1:]\n",
    "print(\"The last column of var2 is: \")\n",
    "print(col_last_var2)\n",
    "mat=var2[0:2,-2:]\n",
    "print(\"The top right 2x2 submatrix of var2 is: \")\n",
    "print(mat)"
   ]
  },
  {
   "cell_type": "markdown",
   "id": "bb23e0e5",
   "metadata": {},
   "source": [
    "### Q2: a) The most basic kind of broadcast is with a scalar, in which you can perform a binary operation (e.g., add, multiply,...) on an array and a scalar, the effect is to perform the operation with the scalar for every element of the array. To try this out, create a vector 1,2,3,...,10 by adding 1 to the result of the arange function."
   ]
  },
  {
   "cell_type": "code",
   "execution_count": 3,
   "id": "a7fa2b11",
   "metadata": {},
   "outputs": [
    {
     "name": "stdout",
     "output_type": "stream",
     "text": [
      "[ 1  2  3  4  5  6  7  8  9 10]\n"
     ]
    }
   ],
   "source": [
    "import numpy as np\n",
    "\n",
    "Arr1 = np.arange(10)+1\n",
    "print(Arr1)"
   ]
  },
  {
   "cell_type": "markdown",
   "id": "31796ec6",
   "metadata": {},
   "source": [
    "### b) Now, create a 10 x 10 matrix A in which A_(ij)=i+j. You'll be able to do this using the vector you just created, and adding it to a reshaped veesion of itself."
   ]
  },
  {
   "cell_type": "code",
   "execution_count": 29,
   "id": "d82d80b7",
   "metadata": {
    "scrolled": true
   },
   "outputs": [
    {
     "name": "stdout",
     "output_type": "stream",
     "text": [
      "[[ 2  3  4  5  6  7  8  9 10 11]\n",
      " [ 3  4  5  6  7  8  9 10 11 12]\n",
      " [ 4  5  6  7  8  9 10 11 12 13]\n",
      " [ 5  6  7  8  9 10 11 12 13 14]\n",
      " [ 6  7  8  9 10 11 12 13 14 15]\n",
      " [ 7  8  9 10 11 12 13 14 15 16]\n",
      " [ 8  9 10 11 12 13 14 15 16 17]\n",
      " [ 9 10 11 12 13 14 15 16 17 18]\n",
      " [10 11 12 13 14 15 16 17 18 19]\n",
      " [11 12 13 14 15 16 17 18 19 20]]\n"
     ]
    }
   ],
   "source": [
    "Arr2 = Arr1.reshape(10,1)\n",
    "Arr3 = Arr1+Arr2\n",
    "print(Arr3)"
   ]
  },
  {
   "cell_type": "markdown",
   "id": "ae706543",
   "metadata": {},
   "source": [
    "### c) A very common use of broadcasting is to standardize data, i.e., to make it have zero mean and unit variance. First, create a fake \"data set\" with 50 examples, each with five dimensions."
   ]
  },
  {
   "cell_type": "code",
   "execution_count": 9,
   "id": "69d4b36a",
   "metadata": {
    "scrolled": true
   },
   "outputs": [
    {
     "name": "stdout",
     "output_type": "stream",
     "text": [
      "Data:\n",
      "[[ 6.658129    0.81286557  1.20562622  1.92308062  0.45908714]\n",
      " [ 0.21494963  0.23059312  4.72971593  2.30865767  0.22681681]\n",
      " [ 0.43017036  0.17009394  0.52952579  3.00374149  0.29100251]\n",
      " [ 1.1679981   1.00640953  0.86539284  2.23946193  0.39208725]\n",
      " [ 0.83884504  0.80618404  0.328907    1.65149385  2.90637805]\n",
      " [ 0.56529767  0.71623637  3.51864261  0.82676241  0.15530989]\n",
      " [ 0.16588978  0.92562513  2.04869506  1.27808106  0.8029798 ]\n",
      " [ 0.86978291  2.3474971   1.6696924   1.62032216  1.57280157]\n",
      " [ 3.531185    1.01012076  0.66467236  0.12405558  0.4635516 ]\n",
      " [ 0.92937834  5.40242772  0.660536    0.8053234   0.93716791]\n",
      " [ 1.23243755  2.45538066  1.04737914  3.80175968  1.44004563]\n",
      " [ 0.98013738  1.9285947   2.3769456   0.29755941  1.84706769]\n",
      " [ 0.17401144  3.51049175  0.90673919  0.39887571  2.06573931]\n",
      " [ 0.79059013  3.08445158  0.67196243  0.86572085  4.81301686]\n",
      " [ 1.59553969  1.11356624  0.12868344  0.34739798  0.76348703]\n",
      " [ 0.93187842  4.38540243  1.20887573  2.3833126   1.08586096]\n",
      " [ 0.6827438   1.98265365  1.16805837  0.84496788  0.60834087]\n",
      " [ 0.55957774  2.90706499  1.35759841  1.36075919  0.77512909]\n",
      " [ 0.18180046  0.52440571  0.47516888  0.9189283   1.10898862]\n",
      " [ 1.61861803  1.23911938  1.22018377  1.04709446  1.47595755]\n",
      " [ 2.22114189  0.8877723   0.47543329  0.27556778  0.96012745]\n",
      " [ 0.41036835  0.73584131  2.74246234  0.38909225  0.98580177]\n",
      " [ 1.38611622  2.30228031  0.3138773   1.02149675  5.37498437]\n",
      " [ 4.99605827  1.29668903  0.61046639  1.27373425  2.12810873]\n",
      " [ 0.4519309   1.19525286  1.67140513  1.99492757  1.12615634]\n",
      " [ 0.76095274  0.18193105  0.0790993   1.36634653  0.57485493]\n",
      " [ 0.29734415  1.17137901  1.37995345  0.60582566  0.77224597]\n",
      " [ 0.17303381  1.8269292   0.24886477  0.38216044  0.31695639]\n",
      " [ 1.27976503  0.86295548  1.29685365  0.77727236  2.69310388]\n",
      " [ 2.12648366  0.35441278  0.19479202  0.10155898  1.44907417]\n",
      " [ 1.67705434  0.48264529  0.83154553  1.00077676  0.90454065]\n",
      " [ 0.47335391  1.05527999  0.97064094  0.97520389  5.09775759]\n",
      " [ 0.69750887  3.07081483  2.05292241  0.96282521  0.96053926]\n",
      " [ 4.25719113  0.4460186   0.41083734  2.74081974  0.81531606]\n",
      " [ 1.43712809  1.02614912  1.32638883  0.42534875  0.50693456]\n",
      " [ 0.84576915  0.74427439  1.534292    4.04429421  1.42087457]\n",
      " [ 0.39076964  0.10218259 11.255169    2.02156343  2.00649677]\n",
      " [ 3.32847005  0.70301355  0.69688979  1.65995481  1.82149378]\n",
      " [ 2.83176517  3.40385165  0.74010899  1.57406034  0.67368066]\n",
      " [ 0.78787175  0.57054792  0.33506092  0.42439224  0.60647303]\n",
      " [ 3.38398946  0.78709911  4.95141499  0.44824234  0.26716938]\n",
      " [ 4.28860309  1.70611754  2.1673744   0.38445634  0.37366841]\n",
      " [ 0.76837933  0.89926117  0.28618128  0.20764896  0.8023045 ]\n",
      " [ 0.15845823  0.18744739  0.23253158  0.5702493   0.50542567]\n",
      " [ 0.34492402  0.46505404  0.58172609  0.21540414  1.32811904]\n",
      " [ 2.6418767   0.45341703  2.46327671  1.68718772  1.24913323]\n",
      " [ 0.67530825  3.05629992  2.12627775  0.56865168  0.21736735]\n",
      " [ 0.131135    1.34348085  0.22450105  0.50639784  8.07269799]\n",
      " [ 1.67495544  1.17507959  0.6840257  14.69694624  1.11456589]\n",
      " [ 0.37719799  0.69903784  1.17262499  4.2182766   0.80347802]]\n"
     ]
    }
   ],
   "source": [
    "import numpy.random as npr\n",
    "\n",
    "data = np.exp(npr.randn ( 50 , 5 ) )\n",
    "print(\"Data:\")\n",
    "print(data)"
   ]
  },
  {
   "cell_type": "markdown",
   "id": "b3c5ee89",
   "metadata": {},
   "source": [
    "### d) You don't worry too much about what this code is doing at this stage of the course, but for completeness: it imports the Numpy random number generation library, then generates a 50 x 5 matrix of standard normal random variates and exponentiates them. The effect of this is to have a pretend data set of 50 independent and identically-distributed vectors from a log-normal distributions."
   ]
  },
  {
   "cell_type": "markdown",
   "id": "a31a917b",
   "metadata": {},
   "source": [
    "### e) Now, compute the mean and standard deviation of each column. This should result in two vectors of length 5. You'll need to think a little bit about how to use the axis argument to mean and std. Store these vectors into variables and print both of them."
   ]
  },
  {
   "cell_type": "code",
   "execution_count": 11,
   "id": "30f64675",
   "metadata": {
    "scrolled": true
   },
   "outputs": [
    {
     "name": "stdout",
     "output_type": "stream",
     "text": [
      "Mean:\n",
      "[1.3878773  1.395034   1.41679998 1.51136079 1.40240533]\n",
      "Standard deviation:\n",
      "[1.40754872 1.15412403 1.75550062 2.13179293 1.49156636]\n"
     ]
    }
   ],
   "source": [
    "mean = np.mean(data,axis=0)\n",
    "sd = np.std(data,axis=0)\n",
    "print(\"Mean:\")\n",
    "print(mean)\n",
    "print(\"Standard deviation:\")\n",
    "print(sd)"
   ]
  },
  {
   "cell_type": "markdown",
   "id": "d80f6bd8",
   "metadata": {},
   "source": [
    "### f) Now, Standardize the data matrix by 1) subtracting the mean off of each column and 2) dividing each column by its standard deviation. Do this via broadcasting, and store the result in a matrix called normalized. To verify that you successfully did it, compute the mean and standard deviation of the columns of the normalized and print it. "
   ]
  },
  {
   "cell_type": "code",
   "execution_count": 12,
   "id": "d6de0a04",
   "metadata": {},
   "outputs": [
    {
     "name": "stdout",
     "output_type": "stream",
     "text": [
      "Normalized Mean:\n",
      "[-9.99200722e-17 -4.66293670e-17 -8.82627305e-17  7.54951657e-17\n",
      "  1.33226763e-17]\n",
      "Normalized Standard Deviation:\n",
      "[1. 1. 1. 1. 1.]\n"
     ]
    }
   ],
   "source": [
    "z_data = (data-mean)/sd\n",
    "z_mean = np.mean(z_data,axis=0)\n",
    "z_sd = np.std(z_data,axis=0)\n",
    "print(\"Normalized Mean:\")\n",
    "print(z_mean)\n",
    "print(\"Normalized Standard Deviation:\")\n",
    "print(z_sd)"
   ]
  },
  {
   "cell_type": "markdown",
   "id": "acd5cb41",
   "metadata": {},
   "source": [
    "### Q3: a) A Vandermode matrix is a matrix generated from a vector in which each column of the matrix is an integer power starting from zero. Use what you learned about broadcasting in the previous problem to write a function that will produce a Vandermonde matrix for a vector [ 1, 2, ... , N]^T for any N. Do it without using any loop. Do it without using a loop.Use your function for N = 12, store it in variable named vander, and print the result."
   ]
  },
  {
   "cell_type": "code",
   "execution_count": 13,
   "id": "867c2dd5",
   "metadata": {
    "scrolled": true
   },
   "outputs": [
    {
     "name": "stdout",
     "output_type": "stream",
     "text": [
      "Enter the Number: 12\n",
      "The Vandermonde Matrix is:\n",
      "[[           1            1            1            1            1\n",
      "             1            1            1            1            1\n",
      "             1            1]\n",
      " [           1            2            4            8           16\n",
      "            32           64          128          256          512\n",
      "          1024         2048]\n",
      " [           1            3            9           27           81\n",
      "           243          729         2187         6561        19683\n",
      "         59049       177147]\n",
      " [           1            4           16           64          256\n",
      "          1024         4096        16384        65536       262144\n",
      "       1048576      4194304]\n",
      " [           1            5           25          125          625\n",
      "          3125        15625        78125       390625      1953125\n",
      "       9765625     48828125]\n",
      " [           1            6           36          216         1296\n",
      "          7776        46656       279936      1679616     10077696\n",
      "      60466176    362797056]\n",
      " [           1            7           49          343         2401\n",
      "         16807       117649       823543      5764801     40353607\n",
      "     282475249   1977326743]\n",
      " [           1            8           64          512         4096\n",
      "         32768       262144      2097152     16777216    134217728\n",
      "    1073741824   8589934592]\n",
      " [           1            9           81          729         6561\n",
      "         59049       531441      4782969     43046721    387420489\n",
      "    3486784401  31381059609]\n",
      " [           1           10          100         1000        10000\n",
      "        100000      1000000     10000000    100000000   1000000000\n",
      "   10000000000 100000000000]\n",
      " [           1           11          121         1331        14641\n",
      "        161051      1771561     19487171    214358881   2357947691\n",
      "   25937424601 285311670611]\n",
      " [           1           12          144         1728        20736\n",
      "        248832      2985984     35831808    429981696   5159780352\n",
      "   61917364224 743008370688]]\n"
     ]
    }
   ],
   "source": [
    "import numpy as np\n",
    "def vandermonde (N):\n",
    "    vec = (np.arange (N) +1).reshape(N,1)\n",
    "    pow_vander = np.arange(N)\n",
    "    return vec**pow_vander.astype(dtype=\"int64\")\n",
    "\n",
    "N = int(input(\"Enter the Number: \"))\n",
    "vander=vandermonde(N)\n",
    "print(\"The Vandermonde Matrix is:\")\n",
    "print(vander)"
   ]
  },
  {
   "cell_type": "markdown",
   "id": "c20a8f45",
   "metadata": {},
   "source": [
    "### b) Now, let’s make a pretend linear system problem with this matrix. Create a vector of all ones, of length 12 and call it x. Perform a matrix-vector multiplication of vander with the vector you just created and store that in a new vector and call it b. Print the vector b."
   ]
  },
  {
   "cell_type": "code",
   "execution_count": 14,
   "id": "3f7ac767",
   "metadata": {},
   "outputs": [
    {
     "name": "stdout",
     "output_type": "stream",
     "text": [
      "b:\n",
      "[[          12]\n",
      " [        4095]\n",
      " [      265720]\n",
      " [     5592405]\n",
      " [    61035156]\n",
      " [   435356467]\n",
      " [  2306881200]\n",
      " [  9817068105]\n",
      " [ 35303692060]\n",
      " [111111111111]\n",
      " [313842837672]\n",
      " [810554586205]]\n"
     ]
    }
   ],
   "source": [
    "x = np.ones(N)\n",
    "b = np.matmul(vander,x).astype(dtype=\"int64\").reshape(N,1)\n",
    "print(\"b:\")\n",
    "print(b)"
   ]
  },
  {
   "cell_type": "markdown",
   "id": "f80aea61",
   "metadata": {},
   "source": [
    "### c) First, solve the linear system the naïve way, pretending like you don’t know x. Import numpy.linalg, invert V and multiply it by b. Print out your result. What should you get for your answer? If the answer is different than what you expected, write a sentence about that difference."
   ]
  },
  {
   "cell_type": "code",
   "execution_count": 15,
   "id": "62315fdf",
   "metadata": {
    "scrolled": true
   },
   "outputs": [
    {
     "name": "stdout",
     "output_type": "stream",
     "text": [
      "Solving by multipling b with inverse of vander:\n",
      "[[-134.109375  ]\n",
      " [ 165.4453125 ]\n",
      " [ -26.921875  ]\n",
      " [  -1.171875  ]\n",
      " [   1.84765625]\n",
      " [   0.91162109]\n",
      " [   1.00439453]\n",
      " [   1.00006104]\n",
      " [   0.99997139]\n",
      " [   1.00000191]\n",
      " [   0.99999994]\n",
      " [   1.        ]]\n"
     ]
    }
   ],
   "source": [
    "print(\"Solving by multipling b with inverse of vander:\")\n",
    "x_1 = np.matmul(np.linalg.inv(vander),b)\n",
    "print(x_1)"
   ]
  },
  {
   "cell_type": "markdown",
   "id": "a340a2cb",
   "metadata": {},
   "source": [
    "#### The answer is different from what is expected because as the elements in Vandermonde Matrix is very big during the inversion of matrix process errors can be introduced (floating point issues). This may result in such errors."
   ]
  },
  {
   "cell_type": "markdown",
   "id": "46d72b01",
   "metadata": {},
   "source": [
    "### d) Now, solve the same linear system using solve. Print out the result. Does it seem more or less in line with what you’d expect?"
   ]
  },
  {
   "cell_type": "code",
   "execution_count": 16,
   "id": "7eadf363",
   "metadata": {
    "scrolled": true
   },
   "outputs": [
    {
     "name": "stdout",
     "output_type": "stream",
     "text": [
      "Solving by Numpy linear algebra function (solve):\n",
      "[[0.98080503]\n",
      " [1.05139768]\n",
      " [0.94513807]\n",
      " [1.03151945]\n",
      " [0.98899166]\n",
      " [1.00248816]\n",
      " [0.99962407]\n",
      " [1.0000384 ]\n",
      " [0.99999737]\n",
      " [1.00000012]\n",
      " [1.        ]\n",
      " [1.        ]]\n"
     ]
    }
   ],
   "source": [
    "x_2 = np.linalg.solve(vander,b)\n",
    "print(\"Solving by Numpy linear algebra function (solve):\")\n",
    "print(x_2)"
   ]
  },
  {
   "cell_type": "markdown",
   "id": "7789156b",
   "metadata": {},
   "source": [
    "#### This is more in line with the expectation."
   ]
  },
  {
   "cell_type": "markdown",
   "id": "4413c721",
   "metadata": {},
   "source": [
    "#### Github Link:\n",
    "https://github.com/Sunandanshrm/DIAT/blob/main/Data%20Science%20tools%20and%20techniques/Assignment/Soultions/Assn2_Sunandan_Sharma_24-14-20.ipynb"
   ]
  }
 ],
 "metadata": {
  "kernelspec": {
   "display_name": "Python 3 (ipykernel)",
   "language": "python",
   "name": "python3"
  },
  "language_info": {
   "codemirror_mode": {
    "name": "ipython",
    "version": 3
   },
   "file_extension": ".py",
   "mimetype": "text/x-python",
   "name": "python",
   "nbconvert_exporter": "python",
   "pygments_lexer": "ipython3",
   "version": "3.9.6"
  }
 },
 "nbformat": 4,
 "nbformat_minor": 5
}
